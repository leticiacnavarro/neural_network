{
  "nbformat": 4,
  "nbformat_minor": 0,
  "metadata": {
    "colab": {
      "name": "neural_evolution.ipynb",
      "provenance": [],
      "collapsed_sections": [],
      "authorship_tag": "ABX9TyMPY7QPWoZJpkKY2DE/6TtV",
      "include_colab_link": true
    },
    "kernelspec": {
      "display_name": "Python 3",
      "name": "python3"
    },
    "language_info": {
      "name": "python"
    }
  },
  "cells": [
    {
      "cell_type": "markdown",
      "metadata": {
        "id": "view-in-github",
        "colab_type": "text"
      },
      "source": [
        "<a href=\"https://colab.research.google.com/github/leticiacnavarro/neural_network/blob/main/neural_evolution.ipynb\" target=\"_parent\"><img src=\"https://colab.research.google.com/assets/colab-badge.svg\" alt=\"Open In Colab\"/></a>"
      ]
    },
    {
      "cell_type": "markdown",
      "metadata": {
        "id": "GB8NUHwncVtC"
      },
      "source": [
        ""
      ]
    },
    {
      "cell_type": "code",
      "metadata": {
        "id": "BVNsmxhyW7po"
      },
      "source": [
        "from sklearn.datasets import load_iris\n",
        "from sklearn.model_selection import train_test_split\n",
        "import numpy as np\n",
        "import pandas as pd\n"
      ],
      "execution_count": null,
      "outputs": []
    },
    {
      "cell_type": "markdown",
      "metadata": {
        "id": "oQo6g2QLcUi-"
      },
      "source": [
        "PSO"
      ]
    },
    {
      "cell_type": "code",
      "metadata": {
        "id": "tPocZVUXW9uS"
      },
      "source": [
        "class Particle:\n",
        "    def __init__(self, no_dim, x_range, v_range):\n",
        "\n",
        "        self.x = np.random.uniform(\n",
        "            x_range[0], x_range[1], (no_dim,)\n",
        "        )  # particle position in each dimension...\n",
        "        self.v = np.random.uniform(\n",
        "            v_range[0], v_range[1], (no_dim,)\n",
        "        )  # particle velocity in each dimension...\n",
        "        self.pbest = np.inf\n",
        "        self.pbestpos = np.zeros((no_dim,))\n",
        "class Swarm:\n",
        "    def __init__(self, no_particle, no_dim, x_range, v_range, iw_range, c):\n",
        "        self.p = np.array(\n",
        "            [Particle(no_dim, x_range, v_range) for i in range(no_particle)]\n",
        "        )\n",
        "        self.gbest = np.inf\n",
        "        self.gbestpos = np.zeros((no_dim,))\n",
        "        self.x_range = x_range\n",
        "        self.v_range = v_range\n",
        "        self.iw_range = iw_range\n",
        "        self.c0 = c[0]\n",
        "        self.c1 = c[1]\n",
        "        self.no_dim = no_dim\n",
        "\n",
        "    def optimize(self, function, X, Y, print_step, iter):\n",
        "        for i in range(iter):\n",
        "            for particle in self.p:\n",
        "                fitness = function(X, Y, particle.x)\n",
        "\n",
        "                if fitness < particle.pbest:\n",
        "                    particle.pbest = fitness\n",
        "                    particle.pbestpos = particle.x.copy()\n",
        "\n",
        "                if fitness < self.gbest:\n",
        "                    self.gbest = fitness\n",
        "                    self.gbestpos = particle.x.copy()\n",
        "\n",
        "            for particle in self.p:\n",
        "                # Here iw is inertia weight...\n",
        "                iw = np.random.uniform(self.iw_range[0], self.iw_range[1], 1)[0]\n",
        "                particle.v = (\n",
        "                    iw * particle.v\n",
        "                    + (\n",
        "                        self.c0\n",
        "                        * np.random.uniform(0.0, 0.5, (self.no_dim,))\n",
        "                        * (particle.pbestpos - particle.x)\n",
        "                    )\n",
        "                    + (\n",
        "                        self.c1\n",
        "                        * np.random.uniform(0.0,0.5, (self.no_dim,))\n",
        "                        * (self.gbestpos - particle.x)\n",
        "                    )\n",
        "                )\n",
        "                # particle.v = particle.v.clip(min=self.v_range[0], max=self.v_range[1])\n",
        "                particle.x = particle.x + particle.v\n",
        "                # particle.x = particle.x.clip(min=self.x_range[0], max=self.x_range[1])\n",
        "\n",
        "            if i % print_step == 0:\n",
        "                print(\"iteration#: \", i + 1, \" loss: \", fitness)\n",
        "\n",
        "        print(\"global best loss: \", self.gbest)\n",
        "\n",
        "    def get_best_solution(self):\n",
        "        return self.gbestpos\n"
      ],
      "execution_count": null,
      "outputs": []
    },
    {
      "cell_type": "markdown",
      "metadata": {
        "id": "X8KUHAvOcYxi"
      },
      "source": [
        "ES"
      ]
    },
    {
      "cell_type": "code",
      "metadata": {
        "id": "f_CyMU67cXNh"
      },
      "source": [
        "from __future__ import print_function\n",
        "import numpy as np\n",
        "import multiprocessing as mp\n",
        "\n",
        "np.random.seed(0)\n",
        "\n",
        "\n",
        "def worker_process(arg):\n",
        "    get_reward_func, weights = arg\n",
        "    return get_reward_func(np.array(weights))\n",
        "\n",
        "\n",
        "class EvolutionStrategy(object):\n",
        "    def __init__(self, weights, x_values, y_values, get_reward_func, population_size=50, sigma=0.1, learning_rate=0.03, decay=0.999,\n",
        "                 num_threads=1):\n",
        "\n",
        "        self.weights = weights\n",
        "        self.get_reward = get_reward_func\n",
        "        self.POPULATION_SIZE = population_size\n",
        "        self.SIGMA = sigma\n",
        "        self.learning_rate = learning_rate\n",
        "        self.decay = decay\n",
        "        self.num_threads = mp.cpu_count() if num_threads == -1 else num_threads\n",
        "        self.x = x_values\n",
        "        self.y = y_values\n",
        "\n",
        "    def _get_weights_try(self, w, p):\n",
        "        weights_try = []\n",
        "        for index, i in enumerate(p):\n",
        "            jittered = self.SIGMA * i\n",
        "            weights_try.append(w[index] + jittered)\n",
        "        return weights_try\n",
        "\n",
        "    def get_weights(self):\n",
        "        return self.weights\n",
        "\n",
        "    def _get_population(self):\n",
        "        population = []\n",
        "        for i in range(self.POPULATION_SIZE):\n",
        "            x = []\n",
        "            for w in self.weights:\n",
        "                x.append(np.random.randn(*w.shape))\n",
        "            population.append(x)\n",
        "        return population\n",
        "\n",
        "    def _get_rewards(self, pool, population):\n",
        "        if pool is not None:\n",
        "            worker_args = ((self.get_reward, self._get_weights_try(self.weights, p)) for p in population)\n",
        "            rewards = pool.map(worker_process, worker_args)\n",
        "\n",
        "        else:\n",
        "            rewards = []\n",
        "            for p in population:\n",
        "                weights_try = self._get_weights_try(self.weights, p)\n",
        "                rewards.append(self.get_reward(self.x, self.y, np.array(weights_try)) * -1)\n",
        "        rewards = np.array(rewards)\n",
        "        return rewards\n",
        "\n",
        "    def _update_weights(self, rewards, population):\n",
        "        std = rewards.std()\n",
        "        if std == 0:\n",
        "            return\n",
        "        rewards = (rewards - rewards.mean()) / std\n",
        "        for index, w in enumerate(self.weights):\n",
        "            layer_population = np.array([p[index] for p in population])\n",
        "            update_factor = self.learning_rate / (self.POPULATION_SIZE * self.SIGMA)\n",
        "            self.weights[index] = w + update_factor * np.dot(layer_population.T, rewards).T\n",
        "        self.learning_rate *= self.decay\n",
        "\n",
        "    def run(self, iterations, print_step=10):\n",
        "        pool = mp.Pool(self.num_threads) if self.num_threads > 1 else None\n",
        "        for iteration in range(iterations):\n",
        "\n",
        "            population = self._get_population()\n",
        "            rewards = self._get_rewards(pool, population)\n",
        "\n",
        "            self._update_weights(rewards, population)\n",
        "\n",
        "            if (iteration + 1) % print_step == 0:\n",
        "                print('iter %d. reward: %f' % (iteration + 1, (self.get_reward(self.x, self.y, self.weights)) * -1 ))\n",
        "        if pool is not None:\n",
        "            pool.close()\n",
        "            pool.join()"
      ],
      "execution_count": null,
      "outputs": []
    },
    {
      "cell_type": "markdown",
      "metadata": {
        "id": "Tr8uU2HucboD"
      },
      "source": [
        "Neural Network"
      ]
    },
    {
      "cell_type": "code",
      "metadata": {
        "id": "snKucLLZ5UuK"
      },
      "source": [
        "class Neural_Network:\n",
        "    def __init__(self, input, hidden, output):\n",
        "        self.input_nodes = input\n",
        "        self.hidden_nodes = hidden\n",
        "        self.output_nodes = output\n",
        "    def softmax(self, logits):\n",
        "        exps = np.exp(logits)\n",
        "        return exps / np.sum(exps, axis=1, keepdims=True)\n",
        "\n",
        "    def sigmoid(self, logits):     \n",
        "        #np.clip( logits, -500, 500 )\n",
        "        exps = 1/(1+np.exp(-logits))\n",
        "        return exps\n",
        "\n",
        "    def Negative_Likelihood(self, probs, Y):\n",
        "        probs = probs/ np.sum(probs, axis=1, keepdims=True)\n",
        "        num_samples = len(probs)\n",
        "        corect_logprobs = -np.log(probs[range(num_samples), Y])\n",
        "        return np.sum(corect_logprobs) / num_samples\n",
        "        \n",
        "    def weights(self, W):\n",
        "        #print(W)\n",
        "        w1 = W[0 : self.input_nodes * self.hidden_nodes].reshape((self.input_nodes, self.hidden_nodes))\n",
        "        b1 = W[\n",
        "            self.input_nodes * self.hidden_nodes : (self.input_nodes * self.hidden_nodes) + self.hidden_nodes\n",
        "        ].reshape((self.hidden_nodes,))\n",
        "        w2 = W[\n",
        "            (self.input_nodes * self.hidden_nodes)\n",
        "            + self.hidden_nodes : (self.input_nodes * self.hidden_nodes)\n",
        "            + self.hidden_nodes\n",
        "            + (self.hidden_nodes * self.output_nodes)\n",
        "        ].reshape((self.hidden_nodes, self.output_nodes))\n",
        "        b2 = W[\n",
        "            (self.input_nodes * self.hidden_nodes)\n",
        "            + self.hidden_nodes\n",
        "            + (self.hidden_nodes * self.output_nodes) : (self.input_nodes * self.hidden_nodes)\n",
        "            + self.hidden_nodes\n",
        "            + (self.hidden_nodes * self.output_nodes)\n",
        "            + self.output_nodes\n",
        "        ].reshape((self.output_nodes,))\n",
        "\n",
        "        return w1, b1, w2, b2  \n",
        "\n",
        "    def forward_pass(self, X, Y, W):\n",
        "\n",
        "        if isinstance(W, Particle):\n",
        "            W = W.x\n",
        "\n",
        "        w1, b1, w2, b2 = self.weights(W)\n",
        "\n",
        "        z1 = np.dot(X, w1) + b1\n",
        "        a1 = np.tanh(z1)\n",
        "        z2 = np.dot(a1, w2) + b2\n",
        "        logits = z2\n",
        "\n",
        "        probs = self.sigmoid(np.array(logits, dtype=np.float128))\n",
        "        negative = self.Negative_Likelihood(probs, Y)\n",
        "        return negative\n",
        "      \n",
        "    def predict(self, X, W):\n",
        "      # print(W)\n",
        "        w1, b1, w2, b2 = self.weights(W)\n",
        "\n",
        "        z1 = np.dot(X, w1) + b1\n",
        "        a1 = np.tanh(z1)\n",
        "        z2 = np.dot(a1, w2) + b2\n",
        "        logits = z2\n",
        "\n",
        "        probs = self.sigmoid(logits)\n",
        "        Y_pred = np.argmax(probs, axis=1)\n",
        "        return Y_pred\n",
        "\n",
        "    def get_accuracy(self, Y, Y_pred):\n",
        "        return (Y == Y_pred).mean()\n",
        "\n",
        "    def get_dim(self):\n",
        "        dim = ((self.input_nodes * self.hidden_nodes) + self.hidden_nodes + (self.hidden_nodes * self.output_nodes) + self.output_nodes)\n",
        "        return dim\n"
      ],
      "execution_count": null,
      "outputs": []
    },
    {
      "cell_type": "markdown",
      "metadata": {
        "id": "9onhdvNtcj-p"
      },
      "source": [
        "Executando Neural - PSO - Iris"
      ]
    },
    {
      "cell_type": "code",
      "metadata": {
        "id": "ggFGUMdSZDnw"
      },
      "source": [
        "def pso_iris():\n",
        "    # load iris dataset..\n",
        "    data = load_iris()\n",
        "\n",
        "    # Store input & target in X and Y..\n",
        "    X = data.data\n",
        "    y = data.target\n",
        "\n",
        "    X_train, X_test, y_train, y_test = train_test_split(X, y, test_size=0.2, random_state=42)\n",
        "\n",
        "    neural = Neural_Network(4, 20, 3)\n",
        "\n",
        "    no_solution = 20\n",
        "\n",
        "    w_range = (0.0, 1.0)\n",
        "    lr_range = (0.0, 1.0)\n",
        "    iw_range = (0.9, 0.9)  # iw -> inertial weight...\n",
        "    c = (1.5, 0.5)  # c[0] -> cognitive factor, c[1] -> social factor...\n",
        "\n",
        "    s = Swarm(no_solution, neural.get_dim(), w_range, lr_range, iw_range, c)\n",
        "    s.optimize(neural.forward_pass, X_train, y_train, 100, 1000)\n",
        "    W = s.get_best_solution()\n",
        "    Y_pred = neural.predict(X_test, W)\n",
        "    accuracy = neural.get_accuracy(y_test, Y_pred)\n",
        "    print(\"Accuracy: %.3f\" % accuracy)\n"
      ],
      "execution_count": null,
      "outputs": []
    },
    {
      "cell_type": "code",
      "metadata": {
        "id": "sMOq8PEEczbW"
      },
      "source": [
        "def es_iris():\n",
        "    # load iris dataset..\n",
        "    data = load_iris()\n",
        "\n",
        "    # Store input & target in X and Y..\n",
        "    X = data.data\n",
        "    y = data.target\n",
        "\n",
        "    X_train, X_test, y_train, y_test = train_test_split(X, y, test_size=0.2, random_state=42)\n",
        "\n",
        "    neural = Neural_Network(4, 20, 3)\n",
        "\n",
        "    w_range = (0.0, 1.0)\n",
        "    lr_range = (0.0, 1.0)\n",
        "    iw_range = (0.9, 0.9)\n",
        "    weights2 = np.random.uniform(\n",
        "        w_range[0], w_range[1], (neural.get_dim(),)\n",
        "    )\n",
        "    es = EvolutionStrategy(weights2, X_train, y_train, neural.forward_pass, population_size=50, sigma=0.4, learning_rate=0.6, decay=0.995, num_threads=1)\n",
        "    es.run(5000, print_step=500)\n",
        "    W = es.get_weights()\n",
        "    Y_pred = neural.predict(X_test, W)\n",
        "    accuracy = neural.get_accuracy(y_test, Y_pred)\n",
        "    print(\"Accuracy: %.3f\" % accuracy)\n"
      ],
      "execution_count": null,
      "outputs": []
    },
    {
      "cell_type": "code",
      "metadata": {
        "colab": {
          "base_uri": "https://localhost:8080/"
        },
        "id": "MrZwMNUh9-V5",
        "outputId": "5806b801-63bf-4595-acef-653e51618982"
      },
      "source": [
        "es_iris()"
      ],
      "execution_count": null,
      "outputs": [
        {
          "output_type": "stream",
          "text": [
            "iter 500. reward: -0.276334\n",
            "iter 1000. reward: -0.276896\n",
            "iter 1500. reward: -0.277652\n",
            "iter 2000. reward: -0.277011\n",
            "iter 2500. reward: -0.276973\n",
            "iter 3000. reward: -0.276972\n",
            "iter 3500. reward: -0.276972\n",
            "iter 4000. reward: -0.276972\n",
            "iter 4500. reward: -0.276972\n",
            "iter 5000. reward: -0.276972\n",
            "Accuracy: 0.633\n"
          ],
          "name": "stdout"
        }
      ]
    },
    {
      "cell_type": "code",
      "metadata": {
        "colab": {
          "base_uri": "https://localhost:8080/"
        },
        "id": "oPYe017wHq0V",
        "outputId": "dc0bac7f-ebaf-476a-ae71-eb33f2c54e1e"
      },
      "source": [
        "!wget http://archive.ics.uci.edu/ml/machine-learning-databases/waveform/waveform.data.Z\n",
        "!7z e /content/waveform.data.Z"
      ],
      "execution_count": null,
      "outputs": [
        {
          "output_type": "stream",
          "text": [
            "--2021-05-13 00:30:29--  http://archive.ics.uci.edu/ml/machine-learning-databases/waveform/waveform.data.Z\n",
            "Resolving archive.ics.uci.edu (archive.ics.uci.edu)... 128.195.10.252\n",
            "Connecting to archive.ics.uci.edu (archive.ics.uci.edu)|128.195.10.252|:80... connected.\n",
            "HTTP request sent, awaiting response... 200 OK\n",
            "Length: 176908 (173K) [application/x-httpd-php]\n",
            "Saving to: ‘waveform.data.Z’\n",
            "\n",
            "waveform.data.Z     100%[===================>] 172.76K   797KB/s    in 0.2s    \n",
            "\n",
            "2021-05-13 00:30:29 (797 KB/s) - ‘waveform.data.Z’ saved [176908/176908]\n",
            "\n",
            "\n",
            "7-Zip [64] 16.02 : Copyright (c) 1999-2016 Igor Pavlov : 2016-05-21\n",
            "p7zip Version 16.02 (locale=en_US.UTF-8,Utf16=on,HugeFiles=on,64 bits,2 CPUs Intel(R) Xeon(R) CPU @ 2.30GHz (306F0),ASM,AES-NI)\n",
            "\n",
            "Scanning the drive for archives:\n",
            "  0M Scan /content/\b\b\b\b\b\b\b\b\b\b\b\b\b\b\b\b\b\b\b                   \b\b\b\b\b\b\b\b\b\b\b\b\b\b\b\b\b\b\b1 file, 176908 bytes (173 KiB)\n",
            "\n",
            "Extracting archive: /content/waveform.data.Z\n",
            "--\n",
            "Path = /content/waveform.data.Z\n",
            "Type = Z\n",
            "\n",
            "  0%\b\b\b\b    \b\b\b\bEverything is Ok\n",
            "\n",
            "Size:       555497\n",
            "Compressed: 176908\n"
          ],
          "name": "stdout"
        }
      ]
    },
    {
      "cell_type": "code",
      "metadata": {
        "colab": {
          "background_save": true,
          "base_uri": "https://localhost:8080/"
        },
        "id": "46SxqfBUHsVG",
        "outputId": "eb849b60-1833-4481-8925-95a4de73d86c"
      },
      "source": [
        "def es_waveform():\n",
        "    waveform = pd.read_csv('/content/waveform.data',  header=None)\n",
        "    waveform.head()\n",
        "\n",
        "    previsores = waveform.iloc[:, 1:21].values\n",
        "    classe = waveform.iloc[:, 21].values\n",
        "\n",
        "    X_train, X_test, y_train, y_test = train_test_split(previsores, classe, test_size=0.2, random_state=42)\n",
        "    neural = Neural_Network(20, 20, 3)\n",
        "    no_solution = 20\n",
        "\n",
        "    w_range = (0.0, 1.0)\n",
        "    lr_range = (0.0, 1.0)\n",
        "    iw_range = (0.9, 0.9)\n",
        "    weights2 = np.random.uniform(\n",
        "        w_range[0], w_range[1], (neural.get_dim(),)\n",
        "    )\n",
        "    es = EvolutionStrategy(weights2, X_train, y_train, neural.forward_pass, population_size=50, sigma=0.4, learning_rate=0.6, decay=0.995, num_threads=1)\n",
        "    es.run(5000, print_step=500)\n",
        "    W = es.get_weights()\n",
        "    Y_pred = neural.predict(X_test, W)\n",
        "    accuracy = neural.get_accuracy(y_test, Y_pred)\n",
        "    print(\"Accuracy: %.3f\" % accuracy)\n",
        "\n",
        "es_waveform()"
      ],
      "execution_count": null,
      "outputs": [
        {
          "output_type": "stream",
          "text": [
            "iter 500. reward: -0.309706\n",
            "iter 1000. reward: -0.305107\n",
            "iter 1500. reward: -0.304667\n",
            "iter 2000. reward: -0.304654\n",
            "iter 2500. reward: -0.304653\n",
            "iter 3000. reward: -0.304653\n",
            "iter 3500. reward: -0.304653\n",
            "iter 4000. reward: -0.304653\n",
            "iter 4500. reward: -0.304653\n",
            "iter 5000. reward: -0.304653\n",
            "Accuracy: 0.836\n"
          ],
          "name": "stdout"
        }
      ]
    }
  ]
}